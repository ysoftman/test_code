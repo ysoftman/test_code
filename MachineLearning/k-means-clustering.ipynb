{
 "cells": [
  {
   "cell_type": "code",
   "execution_count": 1,
   "metadata": {},
   "outputs": [
    {
     "data": {
      "text/plain": [
       "<Figure size 1000x1000 with 1 Axes>"
      ]
     },
     "metadata": {},
     "output_type": "display_data"
    }
   ],
   "source": [
    "# python3\n",
    "# ysoftman - tensorflow 를 이용해서 k-menas-clustering 구현하기\n",
    "# 소스 출처 https://github.com/rickiepark/tfk-notebooks/blob/master/first-contact-with-tensorflow/chapter3_kmeans.py.ipynb\n",
    "# 원소스가 python2 기반이라 python3 에 맞게 수정하고, 기타 데이터 값들도 변경해봄\n",
    "import numpy as np\n",
    "import matplotlib as plt\n",
    "import pandas as pd\n",
    "import seaborn as sb\n",
    "import tensorflow as tf\n",
    "\n",
    "\n",
    "# k=3개로 하는 클러스링\n",
    "num_clusters = 5\n",
    "num_steps = 100\n",
    "\n",
    "\n",
    "vector_values = []\n",
    "# 1000개의 랜덤값 생성\n",
    "for i in range(1000):  \n",
    "#   x --> 평균:0.0 표준편차:0.6  y --> 평균:0.0 표준편차 0.9 의 랜덤\n",
    "    vector_values.append([np.random.normal(0.0, 0.9), np.random.normal(0.0, 0.9)])\n",
    "# 500개의 랜덥값 생성\n",
    "for i in range(500):\n",
    "#   x --> 평균:3.0 표준편차:0.5  y --> 평균:1.0 표준편차 0.5 의 랜덤\n",
    "    vector_values.append([np.random.normal(3.0, 0.5), np.random.normal(1.0, 0.5)])\n",
    "\n",
    "# 위에서 생성한 2차원 배열 x,y 를 dataframe 으로 설정\n",
    "df = pd.DataFrame({\"x\": [v[0] for v in vector_values], \"y\": [v[1] for v in vector_values]})\n",
    "# dataframe 의 랜덤 데이터들을 그래프로 출력\n",
    "sb.lmplot(\"x\", \"y\", data=df, fit_reg=False, height=10)\n",
    "plt.pyplot.show()\n"
   ]
  },
  {
   "cell_type": "code",
   "execution_count": 2,
   "metadata": {},
   "outputs": [
    {
     "name": "stdout",
     "output_type": "stream",
     "text": [
      "(1, 1500, 2)\n",
      "(5, 1, 2)\n"
     ]
    }
   ],
   "source": [
    "# 위 2차원의 랜럼값을 상수로하는 새로운 벡터(클러스터링 할 데이터들) 생성\n",
    "vectors = tf.constant(vector_values)\n",
    "# 클러스터링의 중심점(centroid) num_clusters 개를 랜덤하게 설정\n",
    "centroids = tf.Variable(tf.slice(tf.random_shuffle(vectors), [0, 0], [num_clusters, -1]))\n",
    "# vectors 0번째 차원으로 확장(설정)한다. 차원 확장시 0부터 시작해야 한다.\n",
    "expanded_vectors = tf.expand_dims(vectors, 0)\n",
    "# centroids 1번째 차원으로 설정\n",
    "expanded_centroids = tf.expand_dims(centroids, 1)\n",
    "\n",
    "print(expanded_vectors.get_shape())\n",
    "print(expanded_centroids.get_shape())\n"
   ]
  },
  {
   "cell_type": "code",
   "execution_count": 3,
   "metadata": {
    "scrolled": false
   },
   "outputs": [
    {
     "name": "stderr",
     "output_type": "stream",
     "text": [
      "WARNING: Logging before flag parsing goes to stderr.\n",
      "W0708 18:28:42.525979 4610622912 deprecation.py:323] From <ipython-input-3-183d5a87abae>:14: add_dispatch_support.<locals>.wrapper (from tensorflow.python.ops.array_ops) is deprecated and will be removed in a future version.\n",
      "Instructions for updating:\n",
      "Use tf.where in 2.0, which has the same broadcast rule as np.where\n"
     ]
    },
    {
     "ename": "AttributeError",
     "evalue": "module 'tensorflow' has no attribute 'global_variable_initializer'",
     "output_type": "error",
     "traceback": [
      "\u001b[0;31m---------------------------------------------------------------------------\u001b[0m",
      "\u001b[0;31mAttributeError\u001b[0m                            Traceback (most recent call last)",
      "\u001b[0;32m<ipython-input-3-183d5a87abae>\u001b[0m in \u001b[0;36m<module>\u001b[0;34m\u001b[0m\n\u001b[1;32m     19\u001b[0m \u001b[0;31m# tensor flow 를 구성하는 변수들 모두 초기화\u001b[0m\u001b[0;34m\u001b[0m\u001b[0;34m\u001b[0m\u001b[0;34m\u001b[0m\u001b[0m\n\u001b[1;32m     20\u001b[0m \u001b[0;31m# init_op = tf.initialize_all_variables() # deprecated\u001b[0m\u001b[0;34m\u001b[0m\u001b[0;34m\u001b[0m\u001b[0;34m\u001b[0m\u001b[0m\n\u001b[0;32m---> 21\u001b[0;31m \u001b[0minit_op\u001b[0m \u001b[0;34m=\u001b[0m \u001b[0mtf\u001b[0m\u001b[0;34m.\u001b[0m\u001b[0mglobal_variable_initializer\u001b[0m\u001b[0;34m(\u001b[0m\u001b[0;34m)\u001b[0m\u001b[0;34m\u001b[0m\u001b[0;34m\u001b[0m\u001b[0m\n\u001b[0m\u001b[1;32m     22\u001b[0m \u001b[0;31m# 세션(tensor 가 flow 될 수 있도록 준비) 생성\u001b[0m\u001b[0;34m\u001b[0m\u001b[0;34m\u001b[0m\u001b[0;34m\u001b[0m\u001b[0m\n\u001b[1;32m     23\u001b[0m \u001b[0msess\u001b[0m \u001b[0;34m=\u001b[0m \u001b[0mtf\u001b[0m\u001b[0;34m.\u001b[0m\u001b[0mSession\u001b[0m\u001b[0;34m(\u001b[0m\u001b[0;34m)\u001b[0m\u001b[0;34m\u001b[0m\u001b[0;34m\u001b[0m\u001b[0m\n",
      "\u001b[0;32m/usr/local/lib/python3.7/site-packages/tensorflow/python/util/deprecation_wrapper.py\u001b[0m in \u001b[0;36m__getattr__\u001b[0;34m(self, name)\u001b[0m\n\u001b[1;32m    104\u001b[0m     \u001b[0;32mif\u001b[0m \u001b[0mname\u001b[0m\u001b[0;34m.\u001b[0m\u001b[0mstartswith\u001b[0m\u001b[0;34m(\u001b[0m\u001b[0;34m'_dw_'\u001b[0m\u001b[0;34m)\u001b[0m\u001b[0;34m:\u001b[0m\u001b[0;34m\u001b[0m\u001b[0;34m\u001b[0m\u001b[0m\n\u001b[1;32m    105\u001b[0m       \u001b[0;32mraise\u001b[0m \u001b[0mAttributeError\u001b[0m\u001b[0;34m(\u001b[0m\u001b[0;34m'Accessing local variables before they are created.'\u001b[0m\u001b[0;34m)\u001b[0m\u001b[0;34m\u001b[0m\u001b[0;34m\u001b[0m\u001b[0m\n\u001b[0;32m--> 106\u001b[0;31m     \u001b[0mattr\u001b[0m \u001b[0;34m=\u001b[0m \u001b[0mgetattr\u001b[0m\u001b[0;34m(\u001b[0m\u001b[0mself\u001b[0m\u001b[0;34m.\u001b[0m\u001b[0m_dw_wrapped_module\u001b[0m\u001b[0;34m,\u001b[0m \u001b[0mname\u001b[0m\u001b[0;34m)\u001b[0m\u001b[0;34m\u001b[0m\u001b[0;34m\u001b[0m\u001b[0m\n\u001b[0m\u001b[1;32m    107\u001b[0m     if (self._dw_warning_count < _PER_MODULE_WARNING_LIMIT and\n\u001b[1;32m    108\u001b[0m         name not in self._dw_deprecated_printed):\n",
      "\u001b[0;31mAttributeError\u001b[0m: module 'tensorflow' has no attribute 'global_variable_initializer'"
     ]
    }
   ],
   "source": [
    "# 랜덤 데이터들을 5개의 centroids 와 거리( (expanded_vectors-expanded_centroids)의 제곱에 루트를 씌워 계산 )를 구한다.\n",
    "distances = tf.reduce_sum(tf.square(tf.subtract(expanded_vectors, expanded_centroids)), 2)\n",
    "# 계산된 거리들 중 가장 작은 값의 인덱스 (1차원 배열에 0차원으로 0차원에에 적용)\n",
    "assignments = tf.argmin(distances, 0)\n",
    "\n",
    "# 클러스터링된 데이터들내에서 새로운 centroid 를 구한다.\n",
    "means = tf.concat([\n",
    "    tf.reduce_mean(\n",
    "        tf.gather(vectors,\n",
    "                  tf.reshape(\n",
    "                      tf.where(tf.equal(assignments, c)\n",
    "                      ), [1, -1])\n",
    "                  ), reduction_indices=[1])\n",
    "    for c in range(num_clusters)], 0)\n",
    "# 새로 계산된 centorids 들로 업데이트\n",
    "update_centroids = tf.assign(centroids, means)\n",
    "\n",
    "\n",
    "# tensor flow 를 구성하는 변수들 모두 초기화\n",
    "# init_op = tf.initialize_all_variables() # deprecated\n",
    "init_op = tf.global_variable_initializer()\n",
    "# 세션(tensor 가 flow 될 수 있도록 준비) 생성\n",
    "sess = tf.Session()\n",
    "# 실행(tensor 가 flow 된다.)\n",
    "sess.run(init_op)\n",
    "\n",
    "# num_steps 만큼 반복하여 centroids 를 계사한다.\n",
    "for step in range(num_steps):\n",
    "#     centorid 계산을 시작(설정된 tensor 들을 flow 하도록 한다.)\n",
    "    _, centroid_values, assignment_values = sess.run([update_centroids, centroids, assignments])\n",
    "\n",
    "# 최종적으로 확정된 num_clusters 개의 centroids 좌표 출력\n",
    "print(\"centroids\")\n",
    "print(centroid_values)\n"
   ]
  },
  {
   "cell_type": "code",
   "execution_count": 16,
   "metadata": {},
   "outputs": [
    {
     "ename": "NameError",
     "evalue": "name 'assignment_values' is not defined",
     "output_type": "error",
     "traceback": [
      "\u001b[0;31m---------------------------------------------------------------------------\u001b[0m",
      "\u001b[0;31mNameError\u001b[0m                                 Traceback (most recent call last)",
      "\u001b[0;32m<ipython-input-16-71f2064bc3af>\u001b[0m in \u001b[0;36m<module>\u001b[0;34m\u001b[0m\n\u001b[1;32m      2\u001b[0m \u001b[0mdata\u001b[0m \u001b[0;34m=\u001b[0m \u001b[0;34m{\u001b[0m\u001b[0;34m\"x\"\u001b[0m\u001b[0;34m:\u001b[0m \u001b[0;34m[\u001b[0m\u001b[0;34m]\u001b[0m\u001b[0;34m,\u001b[0m \u001b[0;34m\"y\"\u001b[0m\u001b[0;34m:\u001b[0m \u001b[0;34m[\u001b[0m\u001b[0;34m]\u001b[0m\u001b[0;34m,\u001b[0m \u001b[0;34m\"cluster\"\u001b[0m\u001b[0;34m:\u001b[0m \u001b[0;34m[\u001b[0m\u001b[0;34m]\u001b[0m\u001b[0;34m}\u001b[0m\u001b[0;34m\u001b[0m\u001b[0;34m\u001b[0m\u001b[0m\n\u001b[1;32m      3\u001b[0m \u001b[0;31m# x, y -> 랜덤데이터 값, cluster -> 랜덥데이터값들 각각이 어떤 클러스터로 할당되었는지 나타내는 값\u001b[0m\u001b[0;34m\u001b[0m\u001b[0;34m\u001b[0m\u001b[0;34m\u001b[0m\u001b[0m\n\u001b[0;32m----> 4\u001b[0;31m \u001b[0;32mfor\u001b[0m \u001b[0mi\u001b[0m \u001b[0;32min\u001b[0m \u001b[0mrange\u001b[0m\u001b[0;34m(\u001b[0m\u001b[0mlen\u001b[0m\u001b[0;34m(\u001b[0m\u001b[0massignment_values\u001b[0m\u001b[0;34m)\u001b[0m\u001b[0;34m)\u001b[0m\u001b[0;34m:\u001b[0m\u001b[0;34m\u001b[0m\u001b[0;34m\u001b[0m\u001b[0m\n\u001b[0m\u001b[1;32m      5\u001b[0m     \u001b[0mdata\u001b[0m\u001b[0;34m[\u001b[0m\u001b[0;34m\"x\"\u001b[0m\u001b[0;34m]\u001b[0m\u001b[0;34m.\u001b[0m\u001b[0mappend\u001b[0m\u001b[0;34m(\u001b[0m\u001b[0mvector_values\u001b[0m\u001b[0;34m[\u001b[0m\u001b[0mi\u001b[0m\u001b[0;34m]\u001b[0m\u001b[0;34m[\u001b[0m\u001b[0;36m0\u001b[0m\u001b[0;34m]\u001b[0m\u001b[0;34m)\u001b[0m\u001b[0;34m\u001b[0m\u001b[0;34m\u001b[0m\u001b[0m\n\u001b[1;32m      6\u001b[0m     \u001b[0mdata\u001b[0m\u001b[0;34m[\u001b[0m\u001b[0;34m\"y\"\u001b[0m\u001b[0;34m]\u001b[0m\u001b[0;34m.\u001b[0m\u001b[0mappend\u001b[0m\u001b[0;34m(\u001b[0m\u001b[0mvector_values\u001b[0m\u001b[0;34m[\u001b[0m\u001b[0mi\u001b[0m\u001b[0;34m]\u001b[0m\u001b[0;34m[\u001b[0m\u001b[0;36m1\u001b[0m\u001b[0;34m]\u001b[0m\u001b[0;34m)\u001b[0m\u001b[0;34m\u001b[0m\u001b[0;34m\u001b[0m\u001b[0m\n",
      "\u001b[0;31mNameError\u001b[0m: name 'assignment_values' is not defined"
     ]
    }
   ],
   "source": [
    "# 그래프로 표현될 데이터 구성\n",
    "data = {\"x\": [], \"y\": [], \"cluster\": []}\n",
    "# x, y -> 랜덤데이터 값, cluster -> 랜덥데이터값들 각각이 어떤 클러스터로 할당되었는지 나타내는 값\n",
    "for i in range(len(assignment_values)):\n",
    "    data[\"x\"].append(vector_values[i][0])\n",
    "    data[\"y\"].append(vector_values[i][1])\n",
    "    data[\"cluster\"].append(assignment_values[i])\n",
    "    \n",
    "# dataframe 의 랜덤 데이터들을 그래프로 출력\n",
    "df = pd.DataFrame(data)\n",
    "sb.lmplot(\"x\", \"y\", data=df, fit_reg=False, height=10, hue=\"cluster\", legend=False)\n",
    "plt.pyplot.show()"
   ]
  }
 ],
 "metadata": {
  "kernelspec": {
   "display_name": "Python 3",
   "language": "python",
   "name": "python3"
  },
  "language_info": {
   "codemirror_mode": {
    "name": "ipython",
    "version": 3
   },
   "file_extension": ".py",
   "mimetype": "text/x-python",
   "name": "python",
   "nbconvert_exporter": "python",
   "pygments_lexer": "ipython3",
   "version": "3.7.3"
  }
 },
 "nbformat": 4,
 "nbformat_minor": 2
}
