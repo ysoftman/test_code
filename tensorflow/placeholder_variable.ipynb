{
 "cells": [
  {
   "cell_type": "code",
   "execution_count": 18,
   "metadata": {},
   "outputs": [
    {
     "name": "stdout",
     "output_type": "stream",
     "text": [
      "Tensor(\"Placeholder_30:0\", dtype=float32)\n",
      "Tensor(\"Placeholder_30:0\", dtype=float32)\n",
      "Tensor(\"Mul_15:0\", dtype=float32)\n",
      "[array([21.], dtype=float32)]\n"
     ]
    }
   ],
   "source": [
    "# python version : 3.x\n",
    "import tensorflow as tf\n",
    "\n",
    "# placeholder 를 통해 tensor - 데이터를 입력받을 공간(노드, 변수)을 만든다.\n",
    "input1 = tf.placeholder(tf.float32)\n",
    "input2 = tf.placeholder(tf.float32)\n",
    "\n",
    "\n",
    "# 2개를 입력 받아서 곱하는 tensor 를 만든다.\n",
    "output = tf.multiply(input1, input2)\n",
    "\n",
    "# tensor print 하면 내용만 tensor 의 형식만 보인다.\n",
    "print (input1)\n",
    "print (input1)\n",
    "print (output)\n",
    "\n",
    "\n",
    "# 입력노드 input1, input2 를 곱한 결과 노드 output 라는 그래프를 만들었다.\n",
    "# 이 그래프를 실행하기 위해 세션을 사용한다.\n",
    "sess = tf.Session()\n",
    "\n",
    "# session 의 run 을 통해 위에서 만들 그래프(모델)을 실행한다.\n",
    "# input1:3.0 intput2:7.0 으로 두고 output:3.0*7.0=21.0 을 계산한다.\n",
    "print(sess.run([output], feed_dict={input1: [3.], input2: [7.]}))\n"
   ]
  },
  {
   "cell_type": "code",
   "execution_count": 19,
   "metadata": {},
   "outputs": [
    {
     "name": "stdout",
     "output_type": "stream",
     "text": [
      "0 [-0.2318545] [0.6858475]\n",
      "20 [-0.02705009] [0.37000856]\n",
      "40 [0.06135145] [0.32129657]\n",
      "60 [0.08824313] [0.3064784]\n",
      "80 [0.09642356] [0.30197075]\n",
      "100 [0.09891205] [0.30059952]\n",
      "120 [0.09966903] [0.3001824]\n",
      "140 [0.09989934] [0.30005547]\n",
      "160 [0.09996939] [0.30001688]\n",
      "180 [0.09999069] [0.30000514]\n",
      "200 [0.09999716] [0.3000016]\n"
     ]
    }
   ],
   "source": [
    "# python version : 3.x\n",
    "import tensorflow as tf\n",
    "import numpy as np\n",
    "\n",
    "# Create 100 phony x, y data points in NumPy, y = x * 0.1 + 0.3\n",
    "x_data = np.random.rand(100).astype(np.float32)\n",
    "y_data = x_data * 0.1 + 0.3\n",
    "\n",
    "# Try to find values for W and b that compute y_data = W * x_data + b\n",
    "# (We know that W should be 0.1 and b 0.3, but TensorFlow will\n",
    "# figure that out for us.)\n",
    "# variable 는 weight 를 저장할때 사용한다.\n",
    "W = tf.Variable(tf.random_uniform([1], -1.0, 1.0))\n",
    "b = tf.Variable(tf.zeros([1]))\n",
    "y = W * x_data + b\n",
    "\n",
    "# Minimize the mean squared errors.\n",
    "loss = tf.reduce_mean(tf.square(y - y_data))\n",
    "optimizer = tf.train.GradientDescentOptimizer(0.5)\n",
    "train = optimizer.minimize(loss)\n",
    "\n",
    "# Before starting, initialize the variables.  We will 'run' this first.\n",
    "init = tf.global_variables_initializer()\n",
    "\n",
    "# Launch the graph.\n",
    "sess = tf.Session()\n",
    "sess.run(init)\n",
    "\n",
    "# Fit the line.\n",
    "for step in range(201):\n",
    "    sess.run(train)\n",
    "    if step % 20 == 0:\n",
    "        print(step, sess.run(W), sess.run(b))\n",
    "\n",
    "# Learns best fit is W: [0.1], b: [0.3]\n"
   ]
  }
 ],
 "metadata": {
  "kernelspec": {
   "display_name": "Python 3",
   "language": "python",
   "name": "python3"
  },
  "language_info": {
   "codemirror_mode": {
    "name": "ipython",
    "version": 3
   },
   "file_extension": ".py",
   "mimetype": "text/x-python",
   "name": "python",
   "nbconvert_exporter": "python",
   "pygments_lexer": "ipython3",
   "version": "3.6.4"
  }
 },
 "nbformat": 4,
 "nbformat_minor": 2
}
